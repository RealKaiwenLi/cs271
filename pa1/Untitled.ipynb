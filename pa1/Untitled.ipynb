{
 "cells": [
  {
   "cell_type": "code",
   "execution_count": 6,
   "metadata": {},
   "outputs": [],
   "source": [
    "import hashlib"
   ]
  },
  {
   "cell_type": "code",
   "execution_count": 47,
   "metadata": {},
   "outputs": [],
   "source": [
    "# print (\"The available algorithms are : \", end =\"\")\n",
    "# print (hashlib.algorithms_guaranteed)"
   ]
  },
  {
   "cell_type": "code",
   "execution_count": 7,
   "metadata": {},
   "outputs": [
    {
     "name": "stdout",
     "output_type": "stream",
     "text": [
      "<class '_hashlib.HASH'>\n",
      "<sha256 _hashlib.HASH object @ 0x1059432b0>\n",
      "a6d081dffd478f87e2b078b963c3e716f1fc1489c9d287d1c97d0d1ea71ddfbf\n"
     ]
    }
   ],
   "source": [
    "HashInp = \"The string to be hashed \"\n",
    "prevHash = hashlib.sha256(HashInp.encode())\n",
    "print(type(prevHash))\n",
    "print(prevHash)\n",
    "print(prevHash.hexdigest())"
   ]
  },
  {
   "cell_type": "code",
   "execution_count": null,
   "metadata": {},
   "outputs": [],
   "source": []
  },
  {
   "cell_type": "code",
   "execution_count": null,
   "metadata": {},
   "outputs": [],
   "source": []
  },
  {
   "cell_type": "code",
   "execution_count": null,
   "metadata": {},
   "outputs": [],
   "source": []
  },
  {
   "cell_type": "code",
   "execution_count": 10,
   "metadata": {},
   "outputs": [],
   "source": [
    "\n",
    "\n",
    "class Block:\n",
    "    def __init__(self,S,R,amt, prevHash):\n",
    "        self.S = S\n",
    "        self.R = R\n",
    "        self.amt = amt\n",
    "        self.prevHash = prevHash\n",
    "        self.next = None \n",
    "    \n",
    "class Blockchain:\n",
    "    def __init__(self):\n",
    "        self.genesis = Block(\"Genesis\",\"Genesis\",0,None)\n",
    "        \n",
    "    def getTheHash(self, S,R,amt,prev):\n",
    "        val = str(S) + str(R) + str(amt)\n",
    "        val = val.encode()\n",
    "        prev = str(prev).encode()\n",
    "        # Check this operation --> is it concat or bitwise \"OR\" operation \n",
    "        HashInp = val + prev\n",
    "        prevHash = hashlib.sha256(HashInp)\n",
    "        return prevHash.hexdigest()\n",
    "\n",
    "\n",
    "    def insert(self , sender, rec , amt):\n",
    "        \n",
    "        if self.validate(sender,amt):\n",
    "            temp = self.genesis\n",
    "            while temp.next != None:\n",
    "                    temp = temp.next\n",
    "            Hash = self.getTheHash(temp.S,temp.R,temp.amt,temp.prevHash)\n",
    "            newBlock = Block(sender,rec,amt,Hash)\n",
    "            temp.next = newBlock\n",
    "            print(\"Successful transfer\")\n",
    "        else:\n",
    "            print(\"Can not transfer money\")\n",
    "        \n",
    "    def Show(self):\n",
    "        temp = self.genesis.next\n",
    "        while temp:\n",
    "                print(temp.S + \" \", temp.R + \" \"+  str(temp.prevHash) )\n",
    "                temp = temp.next\n",
    "                \n",
    "                \n",
    "    def validate(self ,sender, amount):\n",
    "        currentBalance = self.balance(sender)\n",
    "        if amount <= currentBalance:\n",
    "            return True\n",
    "        else:\n",
    "            return False\n",
    "        \n",
    "    def balance(self,client):\n",
    "        temp = self.genesis.next\n",
    "        Balance = 10\n",
    "        while temp:\n",
    "            if temp.S == client:\n",
    "                Balance -= temp.amt\n",
    "            elif temp.R == client:\n",
    "                Balance += temp.amt\n",
    "            temp = temp.next\n",
    "        return Balance\n",
    "                \n",
    "\n"
   ]
  },
  {
   "cell_type": "code",
   "execution_count": null,
   "metadata": {},
   "outputs": [],
   "source": []
  },
  {
   "cell_type": "code",
   "execution_count": null,
   "metadata": {},
   "outputs": [],
   "source": []
  },
  {
   "cell_type": "code",
   "execution_count": 14,
   "metadata": {},
   "outputs": [
    {
     "name": "stdout",
     "output_type": "stream",
     "text": [
      "Successful transfer\n",
      "Can not transfer money\n",
      "Successful transfer\n"
     ]
    }
   ],
   "source": [
    "bc = Blockchain()\n",
    "# The genesis block has it's previous hash value set to zero\n",
    "bc.insert(\"hasan\",\"milad\",7)\n",
    "bc.insert(\"reza\", \"milad\",14)\n",
    "bc.insert(\"milad\",\"reza\", 12)\n"
   ]
  },
  {
   "cell_type": "code",
   "execution_count": 15,
   "metadata": {},
   "outputs": [
    {
     "name": "stdout",
     "output_type": "stream",
     "text": [
      "hasan  milad bc6cedb2dbfd397cb607c4ed3811615642c98b8ea1b1ccc1721a2a4097531b3a\n",
      "milad  reza 561f82a3af34c31eef6198af34795e0f411a51b9f5c03d3c507806bcf4a4ea18\n",
      "5\n",
      "22\n"
     ]
    }
   ],
   "source": [
    "bc.Show()\n",
    "print(bc.balance(\"milad\"))\n",
    "print(bc.balance(\"reza\"))"
   ]
  },
  {
   "cell_type": "code",
   "execution_count": null,
   "metadata": {},
   "outputs": [],
   "source": [
    "\n"
   ]
  },
  {
   "cell_type": "code",
   "execution_count": null,
   "metadata": {},
   "outputs": [],
   "source": []
  },
  {
   "cell_type": "code",
   "execution_count": null,
   "metadata": {},
   "outputs": [],
   "source": []
  }
 ],
 "metadata": {
  "kernelspec": {
   "display_name": "Python 3 (ipykernel)",
   "language": "python",
   "name": "python3"
  },
  "language_info": {
   "codemirror_mode": {
    "name": "ipython",
    "version": 3
   },
   "file_extension": ".py",
   "mimetype": "text/x-python",
   "name": "python",
   "nbconvert_exporter": "python",
   "pygments_lexer": "ipython3",
   "version": "3.10.1"
  }
 },
 "nbformat": 4,
 "nbformat_minor": 4
}
