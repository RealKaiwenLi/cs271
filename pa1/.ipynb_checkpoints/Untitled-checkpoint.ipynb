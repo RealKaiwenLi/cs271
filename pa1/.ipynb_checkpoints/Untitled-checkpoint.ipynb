{
 "cells": [
  {
   "cell_type": "code",
   "execution_count": 46,
   "metadata": {},
   "outputs": [],
   "source": [
    "import hashlib"
   ]
  },
  {
   "cell_type": "code",
   "execution_count": 47,
   "metadata": {},
   "outputs": [],
   "source": [
    "# print (\"The available algorithms are : \", end =\"\")\n",
    "# print (hashlib.algorithms_guaranteed)"
   ]
  },
  {
   "cell_type": "code",
   "execution_count": 48,
   "metadata": {},
   "outputs": [
    {
     "name": "stdout",
     "output_type": "stream",
     "text": [
      "<class '_hashlib.HASH'>\n",
      "<sha256 HASH object @ 0x0000020AC2E02DF0>\n",
      "a6d081dffd478f87e2b078b963c3e716f1fc1489c9d287d1c97d0d1ea71ddfbf\n"
     ]
    }
   ],
   "source": [
    "HashInp = \"The string to be hashed \"\n",
    "prevHash = hashlib.sha256(HashInp.encode())\n",
    "print(type(prevHash))\n",
    "print(prevHash)\n",
    "print(prevHash.hexdigest())"
   ]
  },
  {
   "cell_type": "code",
   "execution_count": null,
   "metadata": {},
   "outputs": [],
   "source": []
  },
  {
   "cell_type": "code",
   "execution_count": null,
   "metadata": {},
   "outputs": [],
   "source": []
  },
  {
   "cell_type": "code",
   "execution_count": null,
   "metadata": {},
   "outputs": [],
   "source": []
  },
  {
   "cell_type": "code",
   "execution_count": 86,
   "metadata": {},
   "outputs": [],
   "source": [
    "\n",
    "\n",
    "class Block:\n",
    "    def __init__(self,S,R,amt, prevHash):\n",
    "        self.S = S\n",
    "        self.R = R\n",
    "        self.amt = amt\n",
    "        self.prevHash = prevHash\n",
    "        self.next = None \n",
    "    \n",
    "class Blockchain:\n",
    "    def __init__(self):\n",
    "        self.genesis = None \n",
    "        \n",
    "    def getTheHash(self, S,R,amt,prev):\n",
    "        val = str(S) + str(R) + str(amt)\n",
    "        val = val.encode()\n",
    "        prev = str(prev).encode()\n",
    "        # Check this operation --> is it concat or bitwise \"OR\" operation \n",
    "        HashInp = val + prev\n",
    "        prevHash = hashlib.sha256(HashInp)\n",
    "        return prevHash.hexdigest()\n",
    "\n",
    "\n",
    "    def insert(self , sender, rec , amt):\n",
    "        \n",
    "        if self.validate(sender,amt):\n",
    "            temp = self.genesis\n",
    "            while temp.next != None:\n",
    "                    temp = temp.next\n",
    "            Hash = self.getTheHash(temp.S,temp.R,temp.amt,temp.prevHash)\n",
    "            newBlock = Block(sender,rec,amt,Hash)\n",
    "            temp.next = newBlock\n",
    "            print(\"Successful transfer\")\n",
    "        else:\n",
    "            print(\"Can not transfer money\")\n",
    "        \n",
    "    def Show(self):\n",
    "        temp = self.genesis\n",
    "        while temp:\n",
    "                print(temp.S + \" \", temp.R + \" \"+  str(temp.prevHash) )\n",
    "                temp = temp.next\n",
    "                \n",
    "                \n",
    "    def validate(self ,sender, amount):\n",
    "        currentBalance = self.balance(sender)\n",
    "        if amount <= currentBalance:\n",
    "            return True\n",
    "        else:\n",
    "            return False\n",
    "        \n",
    "    def balance(self,client):\n",
    "        temp = self.genesis\n",
    "        Balance = 10\n",
    "        while temp:\n",
    "            if temp.S == client:\n",
    "                Balance -= temp.amt\n",
    "            elif temp.R == client:\n",
    "                Balance += temp.amt\n",
    "            temp = temp.next\n",
    "        return Balance\n",
    "                \n",
    "\n"
   ]
  },
  {
   "cell_type": "code",
   "execution_count": null,
   "metadata": {},
   "outputs": [],
   "source": []
  },
  {
   "cell_type": "code",
   "execution_count": null,
   "metadata": {},
   "outputs": [],
   "source": []
  },
  {
   "cell_type": "code",
   "execution_count": 89,
   "metadata": {},
   "outputs": [
    {
     "name": "stdout",
     "output_type": "stream",
     "text": [
      "Successful transfer\n",
      "Can not transfer money\n",
      "Successful transfer\n"
     ]
    }
   ],
   "source": [
    "bc = Blockchain()\n",
    "# The genesis block has it's previous hash value set to zero\n",
    "genesis = Block(\"Ali\",\"jaber\",5,0)\n",
    "bc.genesis = genesis\n",
    "bc.insert(\"hasan\",\"milad\",7)\n",
    "bc.insert(\"reza\", \"milad\",14)\n",
    "bc.insert(\"milad\",\"reza\", 12)\n"
   ]
  },
  {
   "cell_type": "code",
   "execution_count": 90,
   "metadata": {},
   "outputs": [
    {
     "name": "stdout",
     "output_type": "stream",
     "text": [
      "Ali  jaber 0\n",
      "hasan  milad d5eb3558589d481dbe4a94c8008e783f67ad79960217950983be2fd25d109b3b\n",
      "milad  reza e46ca9d1ad281b7fdabf40232e2eeb2f2d1b6c158f53b230e19ea18564bc7e67\n",
      "5\n",
      "22\n"
     ]
    }
   ],
   "source": [
    "bc.Show()\n",
    "print(bc.balance(\"milad\"))\n",
    "print(bc.balance(\"reza\"))"
   ]
  },
  {
   "cell_type": "code",
   "execution_count": null,
   "metadata": {},
   "outputs": [],
   "source": [
    "\n"
   ]
  },
  {
   "cell_type": "code",
   "execution_count": null,
   "metadata": {},
   "outputs": [],
   "source": []
  },
  {
   "cell_type": "code",
   "execution_count": null,
   "metadata": {},
   "outputs": [],
   "source": []
  }
 ],
 "metadata": {
  "kernelspec": {
   "display_name": "Python 3 (ipykernel)",
   "language": "python",
   "name": "python3"
  },
  "language_info": {
   "codemirror_mode": {
    "name": "ipython",
    "version": 3
   },
   "file_extension": ".py",
   "mimetype": "text/x-python",
   "name": "python",
   "nbconvert_exporter": "python",
   "pygments_lexer": "ipython3",
   "version": "3.10.1"
  }
 },
 "nbformat": 4,
 "nbformat_minor": 4
}
